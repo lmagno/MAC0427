{
 "cells": [
  {
   "cell_type": "code",
   "execution_count": 1,
   "metadata": {
    "collapsed": false
   },
   "outputs": [
    {
     "name": "stderr",
     "output_type": "stream",
     "text": [
      "/usr/lib/python2.7/dist-packages/matplotlib/font_manager.py:273: UserWarning: Matplotlib is building the font cache using fc-list. This may take a moment.\n",
      "  warnings.warn('Matplotlib is building the font cache using fc-list. This may take a moment.')\n",
      "WARNING: Method definition max(ValidatedNumerics.Interval, ValidatedNumerics.Interval) in module ValidatedNumerics at /home/magno/.julia/v0.4/ValidatedNumerics/src/intervals/arithmetic.jl:230 overwritten in module ImplicitEquations at /home/magno/.julia/v0.4/ImplicitEquations/src/intervals.jl:6.\n",
      "WARNING: Method definition min(ValidatedNumerics.Interval, ValidatedNumerics.Interval) in module ValidatedNumerics at /home/magno/.julia/v0.4/ValidatedNumerics/src/intervals/arithmetic.jl:225 overwritten in module ImplicitEquations at /home/magno/.julia/v0.4/ImplicitEquations/src/intervals.jl:7.\n",
      "WARNING: Base.MathConst is deprecated, use Base.Irrational instead.\n",
      "  likely near /home/magno/.julia/v0.4/ImplicitEquations/src/intervals.jl:221\n",
      "WARNING: New definition \n",
      "    ^(ImplicitEquations.OInterval, Real) at /home/magno/.julia/v0.4/ImplicitEquations/src/intervals.jl:249\n",
      "is ambiguous with: \n",
      "    ^(Real, ForwardDiff.GradientNumber) at /home/magno/.julia/v0.4/ForwardDiff/src/GradientNumber.jl:139.\n",
      "To fix, define \n",
      "    ^(ImplicitEquations.OInterval, ForwardDiff.GradientNumber)\n",
      "before the new definition.\n",
      "WARNING: New definition \n",
      "    ^(ImplicitEquations.OInterval, Real) at /home/magno/.julia/v0.4/ImplicitEquations/src/intervals.jl:249\n",
      "is ambiguous with: \n",
      "    ^(Real, ForwardDiff.HessianNumber) at /home/magno/.julia/v0.4/ForwardDiff/src/HessianNumber.jl:209.\n",
      "To fix, define \n",
      "    ^(ImplicitEquations.OInterval, ForwardDiff.HessianNumber)\n",
      "before the new definition.\n",
      "WARNING: New definition \n",
      "    ^(ImplicitEquations.OInterval, Real) at /home/magno/.julia/v0.4/ImplicitEquations/src/intervals.jl:249\n",
      "is ambiguous with: \n",
      "    ^(Real, ForwardDiff.TensorNumber) at /home/magno/.julia/v0.4/ForwardDiff/src/TensorNumber.jl:264.\n",
      "To fix, define \n",
      "    ^(ImplicitEquations.OInterval, ForwardDiff.TensorNumber)\n",
      "before the new definition.\n",
      "\n",
      "WARNING: deprecated syntax \"[a=>b, ...]\" at /home/magno/.julia/v0.4/ImplicitEquations/src/pyplotgraph.jl:39.\n",
      "Use \"Dict(a=>b, ...)\" instead.\n"
     ]
    }
   ],
   "source": [
    "using JuMP\n",
    "using PyPlot\n",
    "using ImplicitEquations"
   ]
  },
  {
   "cell_type": "code",
   "execution_count": 2,
   "metadata": {
    "collapsed": false
   },
   "outputs": [
    {
     "data": {
      "text/latex": [
       "$$ \\begin{alignat*}{1}\\min\\quad & (nonlinear expression)\\\\\n",
       "\\text{Subject to} \\quad & 2 y = 1\\\\\n",
       " & 2 nonlinear constraints\\\\\n",
       " & x free\\\\\n",
       " & y free\\\\\n",
       "\\end{alignat*}\n",
       " $$"
      ],
      "text/plain": [
       "Minimization problem with:\n",
       " * 1 linear constraint\n",
       " * 2 nonlinear constraints\n",
       " * 2 variables\n",
       "Solver is default solver"
      ]
     },
     "execution_count": 2,
     "metadata": {},
     "output_type": "execute_result"
    }
   ],
   "source": [
    "m = Model()\n",
    "\n",
    "@variable m x\n",
    "@variable m y\n",
    "\n",
    "@NLobjective(m, Min, (x+1)^2 + (y-1)^2)\n",
    "\n",
    "c1(x, y) = 2*y - 1\n",
    "c2(x, y) = (1-x)*(4-x^2-y^2)\n",
    "c3(x, y) = 100 - 2*x^2 - y^2\n",
    "@constraint(m, 2*y - 1 == 0)\n",
    "@NLconstraint(m, (1-x)*(4-x^2-y^2) <= 0)\n",
    "@NLconstraint(m, 100 - 2*x^2 - y^2 >= 0)\n",
    "\n",
    "setvalue(x, -2)\n",
    "setvalue(y, 0)\n",
    "\n",
    "m"
   ]
  },
  {
   "cell_type": "code",
   "execution_count": 7,
   "metadata": {
    "collapsed": false
   },
   "outputs": [
    {
     "name": "stdout",
     "output_type": "stream",
     "text": [
      "This is Ipopt version 3.12.1, running with linear solver mumps.\n",
      "NOTE: Other linear solvers might be more efficient (see Ipopt documentation).\n",
      "\n",
      "Number of nonzeros in equality constraint Jacobian...:        1\n",
      "Number of nonzeros in inequality constraint Jacobian.:        4\n",
      "Number of nonzeros in Lagrangian Hessian.............:        7\n",
      "\n",
      "Total number of variables............................:        2\n",
      "                     variables with only lower bounds:        0\n",
      "                variables with lower and upper bounds:        0\n",
      "                     variables with only upper bounds:        0\n",
      "Total number of equality constraints.................:        1\n",
      "Total number of inequality constraints...............:        2\n",
      "        inequality constraints with only lower bounds:        1\n",
      "   inequality constraints with lower and upper bounds:        0\n",
      "        inequality constraints with only upper bounds:        1\n",
      "\n",
      "iter    objective    inf_pr   inf_du lg(mu)  ||d||  lg(rg) alpha_du alpha_pr  ls\n",
      "   0  2.0000000e+00 1.00e+00 1.15e-01  -1.0 0.00e+00    -  0.00e+00 0.00e+00   0\n",
      "   1  1.2681427e+00 0.00e+00 1.09e+00  -1.0 5.00e-01    -  9.92e-01 1.00e+00f  1\n",
      "   2  1.2246371e+00 0.00e+00 1.21e-04  -1.0 4.83e-01    -  1.00e+00 1.00e+00h  1\n",
      "   3  1.1322171e+00 0.00e+00 6.45e-04  -2.5 5.76e-01    -  1.00e+00 1.00e+00f  1\n",
      "   4  1.1271754e+00 0.00e+00 3.87e-06  -3.8 1.62e-02    -  1.00e+00 1.00e+00h  1\n",
      "   5  1.1270185e+00 0.00e+00 2.52e-09  -5.7 9.04e-04    -  1.00e+00 1.00e+00h  1\n",
      "   6  1.1270167e+00 0.00e+00 3.06e-13  -8.6 1.12e-05    -  1.00e+00 1.00e+00h  1\n",
      "\n",
      "Number of Iterations....: 6\n",
      "\n",
      "                                   (scaled)                 (unscaled)\n",
      "Objective...............:   1.1270166546526288e+00    1.1270166546526288e+00\n",
      "Dual infeasibility......:   3.0553337637684308e-13    3.0553337637684308e-13\n",
      "Constraint violation....:   0.0000000000000000e+00    0.0000000000000000e+00\n",
      "Complementarity.........:   2.5058222494813427e-09    2.5058222494813427e-09\n",
      "Overall NLP error.......:   2.5058222494813427e-09    2.5058222494813427e-09\n",
      "\n",
      "\n",
      "Number of objective function evaluations             = 7\n",
      "Number of objective gradient evaluations             = 7\n",
      "Number of equality constraint evaluations            = 7\n",
      "Number of inequality constraint evaluations          = 7\n",
      "Number of equality constraint Jacobian evaluations   = 7\n",
      "Number of inequality constraint Jacobian evaluations = 7\n",
      "Number of Lagrangian Hessian evaluations             = 6\n",
      "Total CPU secs in IPOPT (w/o function evaluations)   =      0.000\n",
      "Total CPU secs in NLP function evaluations           =      0.000\n",
      "\n",
      "EXIT: Optimal Solution Found.\n"
     ]
    },
    {
     "data": {
      "text/plain": [
       ":Optimal"
      ]
     },
     "execution_count": 7,
     "metadata": {},
     "output_type": "execute_result"
    }
   ],
   "source": [
    "solve(m)"
   ]
  },
  {
   "cell_type": "code",
   "execution_count": 8,
   "metadata": {
    "collapsed": false
   },
   "outputs": [
    {
     "name": "stdout",
     "output_type": "stream",
     "text": [
      "got 1.1270166546526288 at [-1.9364916735628934,0.5]\n"
     ]
    }
   ],
   "source": [
    "println(\"got \", getobjectivevalue(m), \" at \", [getvalue(x),getvalue(y)])"
   ]
  },
  {
   "cell_type": "code",
   "execution_count": null,
   "metadata": {
    "collapsed": false
   },
   "outputs": [],
   "source": [
    "plot(c2 <= 0)"
   ]
  },
  {
   "cell_type": "code",
   "execution_count": null,
   "metadata": {
    "collapsed": true
   },
   "outputs": [],
   "source": []
  }
 ],
 "metadata": {
  "kernelspec": {
   "display_name": "Julia 0.4.5",
   "language": "julia",
   "name": "julia-0.4"
  },
  "language_info": {
   "file_extension": ".jl",
   "mimetype": "application/julia",
   "name": "julia",
   "version": "0.4.5"
  }
 },
 "nbformat": 4,
 "nbformat_minor": 0
}
